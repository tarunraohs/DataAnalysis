{
 "cells": [
  {
   "cell_type": "code",
   "execution_count": 1,
   "id": "11bb81d6",
   "metadata": {},
   "outputs": [],
   "source": [
    "import pandas as pd\n",
    "import numpy as np\n",
    "import matplotlib.pyplot as plt\n",
    "import seaborn as sns\n",
    "from sklearn.model_selection import train_test_split\n",
    "from sklearn.preprocessing import StandardScaler\n",
    "\n",
    "from sklearn.linear_model import LinearRegression\n",
    "\n",
    "import warnings\n",
    "warnings.filterwarnings('ignore')"
   ]
  },
  {
   "cell_type": "code",
   "execution_count": 2,
   "id": "c87ec519",
   "metadata": {},
   "outputs": [],
   "source": [
    "df = pd.read_csv('train_salary.csv')"
   ]
  },
  {
   "cell_type": "code",
   "execution_count": 3,
   "id": "83fd8918",
   "metadata": {},
   "outputs": [
    {
     "data": {
      "text/html": [
       "<div>\n",
       "<style scoped>\n",
       "    .dataframe tbody tr th:only-of-type {\n",
       "        vertical-align: middle;\n",
       "    }\n",
       "\n",
       "    .dataframe tbody tr th {\n",
       "        vertical-align: top;\n",
       "    }\n",
       "\n",
       "    .dataframe thead th {\n",
       "        text-align: right;\n",
       "    }\n",
       "</style>\n",
       "<table border=\"1\" class=\"dataframe\">\n",
       "  <thead>\n",
       "    <tr style=\"text-align: right;\">\n",
       "      <th></th>\n",
       "      <th>Name</th>\n",
       "      <th>JobTitle</th>\n",
       "      <th>AgencyID</th>\n",
       "      <th>Agency</th>\n",
       "      <th>HireDate</th>\n",
       "      <th>AnnualSalary</th>\n",
       "      <th>GrossPay</th>\n",
       "    </tr>\n",
       "  </thead>\n",
       "  <tbody>\n",
       "    <tr>\n",
       "      <th>0</th>\n",
       "      <td>Aaron,Keontae E</td>\n",
       "      <td>AIDE BLUE CHIP</td>\n",
       "      <td>W02200</td>\n",
       "      <td>Youth Summer</td>\n",
       "      <td>06/10/2013</td>\n",
       "      <td>$11310.00</td>\n",
       "      <td>$873.63</td>\n",
       "    </tr>\n",
       "    <tr>\n",
       "      <th>1</th>\n",
       "      <td>Aaron,Patricia G</td>\n",
       "      <td>Facilities/Office Services II</td>\n",
       "      <td>A03031</td>\n",
       "      <td>OED-Employment Dev</td>\n",
       "      <td>10/24/1979</td>\n",
       "      <td>$53428.00</td>\n",
       "      <td>$52868.38</td>\n",
       "    </tr>\n",
       "    <tr>\n",
       "      <th>2</th>\n",
       "      <td>Aaron,Petra L</td>\n",
       "      <td>ASSISTANT STATE'S ATTORNEY</td>\n",
       "      <td>A29005</td>\n",
       "      <td>States Attorneys Office</td>\n",
       "      <td>09/25/2006</td>\n",
       "      <td>$68300.00</td>\n",
       "      <td>$67439.19</td>\n",
       "    </tr>\n",
       "    <tr>\n",
       "      <th>3</th>\n",
       "      <td>Abaineh,Yohannes T</td>\n",
       "      <td>EPIDEMIOLOGIST</td>\n",
       "      <td>A65026</td>\n",
       "      <td>HLTH-Health Department</td>\n",
       "      <td>07/23/2009</td>\n",
       "      <td>$62000.00</td>\n",
       "      <td>$58654.74</td>\n",
       "    </tr>\n",
       "    <tr>\n",
       "      <th>4</th>\n",
       "      <td>Abbene,Anthony M</td>\n",
       "      <td>POLICE OFFICER TRAINEE</td>\n",
       "      <td>A99416</td>\n",
       "      <td>Police Department</td>\n",
       "      <td>07/24/2013</td>\n",
       "      <td>$43999.00</td>\n",
       "      <td>$39686.95</td>\n",
       "    </tr>\n",
       "    <tr>\n",
       "      <th>...</th>\n",
       "      <td>...</td>\n",
       "      <td>...</td>\n",
       "      <td>...</td>\n",
       "      <td>...</td>\n",
       "      <td>...</td>\n",
       "      <td>...</td>\n",
       "      <td>...</td>\n",
       "    </tr>\n",
       "    <tr>\n",
       "      <th>18976</th>\n",
       "      <td>Zotamou,Jean Marie D</td>\n",
       "      <td>AIDE BLUE CHIP</td>\n",
       "      <td>W02235</td>\n",
       "      <td>Youth Summer</td>\n",
       "      <td>05/21/2014</td>\n",
       "      <td>$11310.00</td>\n",
       "      <td>NaN</td>\n",
       "    </tr>\n",
       "    <tr>\n",
       "      <th>18977</th>\n",
       "      <td>Zotamou,Pivot D</td>\n",
       "      <td>AIDE BLUE CHIP</td>\n",
       "      <td>W02629</td>\n",
       "      <td>Youth Summer</td>\n",
       "      <td>05/21/2014</td>\n",
       "      <td>$11310.00</td>\n",
       "      <td>NaN</td>\n",
       "    </tr>\n",
       "    <tr>\n",
       "      <th>18978</th>\n",
       "      <td>Zovistoski,Zachary D</td>\n",
       "      <td>POLICE OFFICER TRAINEE</td>\n",
       "      <td>A99416</td>\n",
       "      <td>Police Department</td>\n",
       "      <td>12/17/2013</td>\n",
       "      <td>$43999.00</td>\n",
       "      <td>$21070.03</td>\n",
       "    </tr>\n",
       "    <tr>\n",
       "      <th>18979</th>\n",
       "      <td>Zubyk,Stanislav T</td>\n",
       "      <td>POLICE OFFICER</td>\n",
       "      <td>A99262</td>\n",
       "      <td>Police Department</td>\n",
       "      <td>01/23/2013</td>\n",
       "      <td>$44104.00</td>\n",
       "      <td>$48608.12</td>\n",
       "    </tr>\n",
       "    <tr>\n",
       "      <th>18980</th>\n",
       "      <td>Zukowski,Charles J</td>\n",
       "      <td>Waste Water Tech Supv I Pump</td>\n",
       "      <td>A50206</td>\n",
       "      <td>DPW-Water &amp; Waste Water</td>\n",
       "      <td>10/15/1979</td>\n",
       "      <td>$53568.00</td>\n",
       "      <td>$52164.32</td>\n",
       "    </tr>\n",
       "  </tbody>\n",
       "</table>\n",
       "<p>18981 rows × 7 columns</p>\n",
       "</div>"
      ],
      "text/plain": [
       "                       Name                       JobTitle AgencyID  \\\n",
       "0           Aaron,Keontae E                 AIDE BLUE CHIP   W02200   \n",
       "1          Aaron,Patricia G  Facilities/Office Services II   A03031   \n",
       "2             Aaron,Petra L     ASSISTANT STATE'S ATTORNEY   A29005   \n",
       "3        Abaineh,Yohannes T                 EPIDEMIOLOGIST   A65026   \n",
       "4          Abbene,Anthony M         POLICE OFFICER TRAINEE   A99416   \n",
       "...                     ...                            ...      ...   \n",
       "18976  Zotamou,Jean Marie D                 AIDE BLUE CHIP   W02235   \n",
       "18977       Zotamou,Pivot D                 AIDE BLUE CHIP   W02629   \n",
       "18978  Zovistoski,Zachary D         POLICE OFFICER TRAINEE   A99416   \n",
       "18979     Zubyk,Stanislav T                 POLICE OFFICER   A99262   \n",
       "18980    Zukowski,Charles J   Waste Water Tech Supv I Pump   A50206   \n",
       "\n",
       "                         Agency    HireDate AnnualSalary   GrossPay  \n",
       "0                Youth Summer    06/10/2013    $11310.00    $873.63  \n",
       "1           OED-Employment Dev   10/24/1979    $53428.00  $52868.38  \n",
       "2      States Attorneys Office   09/25/2006    $68300.00  $67439.19  \n",
       "3       HLTH-Health Department   07/23/2009    $62000.00  $58654.74  \n",
       "4            Police Department   07/24/2013    $43999.00  $39686.95  \n",
       "...                         ...         ...          ...        ...  \n",
       "18976            Youth Summer    05/21/2014    $11310.00        NaN  \n",
       "18977             Youth Summer   05/21/2014    $11310.00        NaN  \n",
       "18978        Police Department   12/17/2013    $43999.00  $21070.03  \n",
       "18979        Police Department   01/23/2013    $44104.00  $48608.12  \n",
       "18980  DPW-Water & Waste Water   10/15/1979    $53568.00  $52164.32  \n",
       "\n",
       "[18981 rows x 7 columns]"
      ]
     },
     "execution_count": 3,
     "metadata": {},
     "output_type": "execute_result"
    }
   ],
   "source": [
    "df"
   ]
  },
  {
   "cell_type": "code",
   "execution_count": 4,
   "id": "dead26ef",
   "metadata": {},
   "outputs": [
    {
     "name": "stdout",
     "output_type": "stream",
     "text": [
      "<class 'pandas.core.frame.DataFrame'>\n",
      "RangeIndex: 18981 entries, 0 to 18980\n",
      "Data columns (total 7 columns):\n",
      " #   Column        Non-Null Count  Dtype \n",
      "---  ------        --------------  ----- \n",
      " 0    Name         18981 non-null  object\n",
      " 1   JobTitle      18981 non-null  object\n",
      " 2   AgencyID      18981 non-null  object\n",
      " 3   Agency        18981 non-null  object\n",
      " 4   HireDate      18911 non-null  object\n",
      " 5   AnnualSalary  18981 non-null  object\n",
      " 6   GrossPay      15758 non-null  object\n",
      "dtypes: object(7)\n",
      "memory usage: 1.0+ MB\n"
     ]
    }
   ],
   "source": [
    "df.info()"
   ]
  },
  {
   "cell_type": "code",
   "execution_count": 5,
   "id": "cfcb3117",
   "metadata": {},
   "outputs": [
    {
     "data": {
      "text/plain": [
       " Name              0\n",
       "JobTitle           0\n",
       "AgencyID           0\n",
       "Agency             0\n",
       "HireDate          70\n",
       "AnnualSalary       0\n",
       "GrossPay        3223\n",
       "dtype: int64"
      ]
     },
     "execution_count": 5,
     "metadata": {},
     "output_type": "execute_result"
    }
   ],
   "source": [
    "df.isnull().sum()"
   ]
  },
  {
   "cell_type": "code",
   "execution_count": 6,
   "id": "59bcd050",
   "metadata": {},
   "outputs": [
    {
     "data": {
      "text/plain": [
       "Index([' Name', 'JobTitle', 'AgencyID', 'Agency', 'HireDate', 'AnnualSalary',\n",
       "       'GrossPay'],\n",
       "      dtype='object')"
      ]
     },
     "execution_count": 6,
     "metadata": {},
     "output_type": "execute_result"
    }
   ],
   "source": [
    "df.columns"
   ]
  },
  {
   "cell_type": "code",
   "execution_count": 7,
   "id": "04e7ae57",
   "metadata": {},
   "outputs": [],
   "source": [
    "df1 = df.copy()"
   ]
  },
  {
   "cell_type": "code",
   "execution_count": 8,
   "id": "5cee2272",
   "metadata": {},
   "outputs": [],
   "source": [
    "df1.columns = df1.columns.str.strip()"
   ]
  },
  {
   "cell_type": "code",
   "execution_count": 9,
   "id": "bc355e53",
   "metadata": {},
   "outputs": [
    {
     "data": {
      "text/plain": [
       "Index(['Name', 'JobTitle', 'AgencyID', 'Agency', 'HireDate', 'AnnualSalary',\n",
       "       'GrossPay'],\n",
       "      dtype='object')"
      ]
     },
     "execution_count": 9,
     "metadata": {},
     "output_type": "execute_result"
    }
   ],
   "source": [
    "df1.columns"
   ]
  },
  {
   "cell_type": "code",
   "execution_count": 10,
   "id": "f1648249",
   "metadata": {},
   "outputs": [],
   "source": [
    "df1.drop('Name',axis=1,inplace=True)"
   ]
  },
  {
   "cell_type": "code",
   "execution_count": 11,
   "id": "360c6785",
   "metadata": {},
   "outputs": [
    {
     "data": {
      "text/html": [
       "<div>\n",
       "<style scoped>\n",
       "    .dataframe tbody tr th:only-of-type {\n",
       "        vertical-align: middle;\n",
       "    }\n",
       "\n",
       "    .dataframe tbody tr th {\n",
       "        vertical-align: top;\n",
       "    }\n",
       "\n",
       "    .dataframe thead th {\n",
       "        text-align: right;\n",
       "    }\n",
       "</style>\n",
       "<table border=\"1\" class=\"dataframe\">\n",
       "  <thead>\n",
       "    <tr style=\"text-align: right;\">\n",
       "      <th></th>\n",
       "      <th>JobTitle</th>\n",
       "      <th>AgencyID</th>\n",
       "      <th>Agency</th>\n",
       "      <th>HireDate</th>\n",
       "      <th>AnnualSalary</th>\n",
       "      <th>GrossPay</th>\n",
       "    </tr>\n",
       "  </thead>\n",
       "  <tbody>\n",
       "    <tr>\n",
       "      <th>0</th>\n",
       "      <td>AIDE BLUE CHIP</td>\n",
       "      <td>W02200</td>\n",
       "      <td>Youth Summer</td>\n",
       "      <td>06/10/2013</td>\n",
       "      <td>$11310.00</td>\n",
       "      <td>$873.63</td>\n",
       "    </tr>\n",
       "    <tr>\n",
       "      <th>1</th>\n",
       "      <td>Facilities/Office Services II</td>\n",
       "      <td>A03031</td>\n",
       "      <td>OED-Employment Dev</td>\n",
       "      <td>10/24/1979</td>\n",
       "      <td>$53428.00</td>\n",
       "      <td>$52868.38</td>\n",
       "    </tr>\n",
       "    <tr>\n",
       "      <th>2</th>\n",
       "      <td>ASSISTANT STATE'S ATTORNEY</td>\n",
       "      <td>A29005</td>\n",
       "      <td>States Attorneys Office</td>\n",
       "      <td>09/25/2006</td>\n",
       "      <td>$68300.00</td>\n",
       "      <td>$67439.19</td>\n",
       "    </tr>\n",
       "    <tr>\n",
       "      <th>3</th>\n",
       "      <td>EPIDEMIOLOGIST</td>\n",
       "      <td>A65026</td>\n",
       "      <td>HLTH-Health Department</td>\n",
       "      <td>07/23/2009</td>\n",
       "      <td>$62000.00</td>\n",
       "      <td>$58654.74</td>\n",
       "    </tr>\n",
       "    <tr>\n",
       "      <th>4</th>\n",
       "      <td>POLICE OFFICER TRAINEE</td>\n",
       "      <td>A99416</td>\n",
       "      <td>Police Department</td>\n",
       "      <td>07/24/2013</td>\n",
       "      <td>$43999.00</td>\n",
       "      <td>$39686.95</td>\n",
       "    </tr>\n",
       "    <tr>\n",
       "      <th>...</th>\n",
       "      <td>...</td>\n",
       "      <td>...</td>\n",
       "      <td>...</td>\n",
       "      <td>...</td>\n",
       "      <td>...</td>\n",
       "      <td>...</td>\n",
       "    </tr>\n",
       "    <tr>\n",
       "      <th>18976</th>\n",
       "      <td>AIDE BLUE CHIP</td>\n",
       "      <td>W02235</td>\n",
       "      <td>Youth Summer</td>\n",
       "      <td>05/21/2014</td>\n",
       "      <td>$11310.00</td>\n",
       "      <td>NaN</td>\n",
       "    </tr>\n",
       "    <tr>\n",
       "      <th>18977</th>\n",
       "      <td>AIDE BLUE CHIP</td>\n",
       "      <td>W02629</td>\n",
       "      <td>Youth Summer</td>\n",
       "      <td>05/21/2014</td>\n",
       "      <td>$11310.00</td>\n",
       "      <td>NaN</td>\n",
       "    </tr>\n",
       "    <tr>\n",
       "      <th>18978</th>\n",
       "      <td>POLICE OFFICER TRAINEE</td>\n",
       "      <td>A99416</td>\n",
       "      <td>Police Department</td>\n",
       "      <td>12/17/2013</td>\n",
       "      <td>$43999.00</td>\n",
       "      <td>$21070.03</td>\n",
       "    </tr>\n",
       "    <tr>\n",
       "      <th>18979</th>\n",
       "      <td>POLICE OFFICER</td>\n",
       "      <td>A99262</td>\n",
       "      <td>Police Department</td>\n",
       "      <td>01/23/2013</td>\n",
       "      <td>$44104.00</td>\n",
       "      <td>$48608.12</td>\n",
       "    </tr>\n",
       "    <tr>\n",
       "      <th>18980</th>\n",
       "      <td>Waste Water Tech Supv I Pump</td>\n",
       "      <td>A50206</td>\n",
       "      <td>DPW-Water &amp; Waste Water</td>\n",
       "      <td>10/15/1979</td>\n",
       "      <td>$53568.00</td>\n",
       "      <td>$52164.32</td>\n",
       "    </tr>\n",
       "  </tbody>\n",
       "</table>\n",
       "<p>18981 rows × 6 columns</p>\n",
       "</div>"
      ],
      "text/plain": [
       "                            JobTitle AgencyID                    Agency  \\\n",
       "0                     AIDE BLUE CHIP   W02200            Youth Summer     \n",
       "1      Facilities/Office Services II   A03031       OED-Employment Dev    \n",
       "2         ASSISTANT STATE'S ATTORNEY   A29005  States Attorneys Office    \n",
       "3                     EPIDEMIOLOGIST   A65026   HLTH-Health Department    \n",
       "4             POLICE OFFICER TRAINEE   A99416        Police Department    \n",
       "...                              ...      ...                       ...   \n",
       "18976                 AIDE BLUE CHIP   W02235            Youth Summer     \n",
       "18977                 AIDE BLUE CHIP   W02629             Youth Summer    \n",
       "18978         POLICE OFFICER TRAINEE   A99416        Police Department    \n",
       "18979                 POLICE OFFICER   A99262        Police Department    \n",
       "18980   Waste Water Tech Supv I Pump   A50206  DPW-Water & Waste Water    \n",
       "\n",
       "         HireDate AnnualSalary   GrossPay  \n",
       "0      06/10/2013    $11310.00    $873.63  \n",
       "1      10/24/1979    $53428.00  $52868.38  \n",
       "2      09/25/2006    $68300.00  $67439.19  \n",
       "3      07/23/2009    $62000.00  $58654.74  \n",
       "4      07/24/2013    $43999.00  $39686.95  \n",
       "...           ...          ...        ...  \n",
       "18976  05/21/2014    $11310.00        NaN  \n",
       "18977  05/21/2014    $11310.00        NaN  \n",
       "18978  12/17/2013    $43999.00  $21070.03  \n",
       "18979  01/23/2013    $44104.00  $48608.12  \n",
       "18980  10/15/1979    $53568.00  $52164.32  \n",
       "\n",
       "[18981 rows x 6 columns]"
      ]
     },
     "execution_count": 11,
     "metadata": {},
     "output_type": "execute_result"
    }
   ],
   "source": [
    "df1"
   ]
  },
  {
   "cell_type": "code",
   "execution_count": 12,
   "id": "694886d8",
   "metadata": {},
   "outputs": [
    {
     "data": {
      "text/plain": [
       "JobTitle           0\n",
       "AgencyID           0\n",
       "Agency             0\n",
       "HireDate          70\n",
       "AnnualSalary       0\n",
       "GrossPay        3223\n",
       "dtype: int64"
      ]
     },
     "execution_count": 12,
     "metadata": {},
     "output_type": "execute_result"
    }
   ],
   "source": [
    "df1.isnull().sum()"
   ]
  },
  {
   "cell_type": "code",
   "execution_count": 13,
   "id": "03c751fb",
   "metadata": {},
   "outputs": [],
   "source": [
    "df1 = df1.dropna(subset=['HireDate'])"
   ]
  },
  {
   "cell_type": "code",
   "execution_count": 14,
   "id": "d212a1a7",
   "metadata": {},
   "outputs": [
    {
     "data": {
      "text/plain": [
       "JobTitle           0\n",
       "AgencyID           0\n",
       "Agency             0\n",
       "HireDate           0\n",
       "AnnualSalary       0\n",
       "GrossPay        3223\n",
       "dtype: int64"
      ]
     },
     "execution_count": 14,
     "metadata": {},
     "output_type": "execute_result"
    }
   ],
   "source": [
    "df1.isnull().sum()"
   ]
  },
  {
   "cell_type": "code",
   "execution_count": 15,
   "id": "aa103322",
   "metadata": {},
   "outputs": [],
   "source": [
    "df1 = df1.drop('GrossPay',axis=1)"
   ]
  },
  {
   "cell_type": "code",
   "execution_count": 16,
   "id": "e893a6bb",
   "metadata": {},
   "outputs": [
    {
     "data": {
      "text/html": [
       "<div>\n",
       "<style scoped>\n",
       "    .dataframe tbody tr th:only-of-type {\n",
       "        vertical-align: middle;\n",
       "    }\n",
       "\n",
       "    .dataframe tbody tr th {\n",
       "        vertical-align: top;\n",
       "    }\n",
       "\n",
       "    .dataframe thead th {\n",
       "        text-align: right;\n",
       "    }\n",
       "</style>\n",
       "<table border=\"1\" class=\"dataframe\">\n",
       "  <thead>\n",
       "    <tr style=\"text-align: right;\">\n",
       "      <th></th>\n",
       "      <th>JobTitle</th>\n",
       "      <th>AgencyID</th>\n",
       "      <th>Agency</th>\n",
       "      <th>HireDate</th>\n",
       "      <th>AnnualSalary</th>\n",
       "    </tr>\n",
       "  </thead>\n",
       "  <tbody>\n",
       "    <tr>\n",
       "      <th>0</th>\n",
       "      <td>AIDE BLUE CHIP</td>\n",
       "      <td>W02200</td>\n",
       "      <td>Youth Summer</td>\n",
       "      <td>06/10/2013</td>\n",
       "      <td>$11310.00</td>\n",
       "    </tr>\n",
       "    <tr>\n",
       "      <th>1</th>\n",
       "      <td>Facilities/Office Services II</td>\n",
       "      <td>A03031</td>\n",
       "      <td>OED-Employment Dev</td>\n",
       "      <td>10/24/1979</td>\n",
       "      <td>$53428.00</td>\n",
       "    </tr>\n",
       "    <tr>\n",
       "      <th>2</th>\n",
       "      <td>ASSISTANT STATE'S ATTORNEY</td>\n",
       "      <td>A29005</td>\n",
       "      <td>States Attorneys Office</td>\n",
       "      <td>09/25/2006</td>\n",
       "      <td>$68300.00</td>\n",
       "    </tr>\n",
       "    <tr>\n",
       "      <th>3</th>\n",
       "      <td>EPIDEMIOLOGIST</td>\n",
       "      <td>A65026</td>\n",
       "      <td>HLTH-Health Department</td>\n",
       "      <td>07/23/2009</td>\n",
       "      <td>$62000.00</td>\n",
       "    </tr>\n",
       "    <tr>\n",
       "      <th>4</th>\n",
       "      <td>POLICE OFFICER TRAINEE</td>\n",
       "      <td>A99416</td>\n",
       "      <td>Police Department</td>\n",
       "      <td>07/24/2013</td>\n",
       "      <td>$43999.00</td>\n",
       "    </tr>\n",
       "    <tr>\n",
       "      <th>...</th>\n",
       "      <td>...</td>\n",
       "      <td>...</td>\n",
       "      <td>...</td>\n",
       "      <td>...</td>\n",
       "      <td>...</td>\n",
       "    </tr>\n",
       "    <tr>\n",
       "      <th>18976</th>\n",
       "      <td>AIDE BLUE CHIP</td>\n",
       "      <td>W02235</td>\n",
       "      <td>Youth Summer</td>\n",
       "      <td>05/21/2014</td>\n",
       "      <td>$11310.00</td>\n",
       "    </tr>\n",
       "    <tr>\n",
       "      <th>18977</th>\n",
       "      <td>AIDE BLUE CHIP</td>\n",
       "      <td>W02629</td>\n",
       "      <td>Youth Summer</td>\n",
       "      <td>05/21/2014</td>\n",
       "      <td>$11310.00</td>\n",
       "    </tr>\n",
       "    <tr>\n",
       "      <th>18978</th>\n",
       "      <td>POLICE OFFICER TRAINEE</td>\n",
       "      <td>A99416</td>\n",
       "      <td>Police Department</td>\n",
       "      <td>12/17/2013</td>\n",
       "      <td>$43999.00</td>\n",
       "    </tr>\n",
       "    <tr>\n",
       "      <th>18979</th>\n",
       "      <td>POLICE OFFICER</td>\n",
       "      <td>A99262</td>\n",
       "      <td>Police Department</td>\n",
       "      <td>01/23/2013</td>\n",
       "      <td>$44104.00</td>\n",
       "    </tr>\n",
       "    <tr>\n",
       "      <th>18980</th>\n",
       "      <td>Waste Water Tech Supv I Pump</td>\n",
       "      <td>A50206</td>\n",
       "      <td>DPW-Water &amp; Waste Water</td>\n",
       "      <td>10/15/1979</td>\n",
       "      <td>$53568.00</td>\n",
       "    </tr>\n",
       "  </tbody>\n",
       "</table>\n",
       "<p>18911 rows × 5 columns</p>\n",
       "</div>"
      ],
      "text/plain": [
       "                            JobTitle AgencyID                    Agency  \\\n",
       "0                     AIDE BLUE CHIP   W02200            Youth Summer     \n",
       "1      Facilities/Office Services II   A03031       OED-Employment Dev    \n",
       "2         ASSISTANT STATE'S ATTORNEY   A29005  States Attorneys Office    \n",
       "3                     EPIDEMIOLOGIST   A65026   HLTH-Health Department    \n",
       "4             POLICE OFFICER TRAINEE   A99416        Police Department    \n",
       "...                              ...      ...                       ...   \n",
       "18976                 AIDE BLUE CHIP   W02235            Youth Summer     \n",
       "18977                 AIDE BLUE CHIP   W02629             Youth Summer    \n",
       "18978         POLICE OFFICER TRAINEE   A99416        Police Department    \n",
       "18979                 POLICE OFFICER   A99262        Police Department    \n",
       "18980   Waste Water Tech Supv I Pump   A50206  DPW-Water & Waste Water    \n",
       "\n",
       "         HireDate AnnualSalary  \n",
       "0      06/10/2013    $11310.00  \n",
       "1      10/24/1979    $53428.00  \n",
       "2      09/25/2006    $68300.00  \n",
       "3      07/23/2009    $62000.00  \n",
       "4      07/24/2013    $43999.00  \n",
       "...           ...          ...  \n",
       "18976  05/21/2014    $11310.00  \n",
       "18977  05/21/2014    $11310.00  \n",
       "18978  12/17/2013    $43999.00  \n",
       "18979  01/23/2013    $44104.00  \n",
       "18980  10/15/1979    $53568.00  \n",
       "\n",
       "[18911 rows x 5 columns]"
      ]
     },
     "execution_count": 16,
     "metadata": {},
     "output_type": "execute_result"
    }
   ],
   "source": [
    "df1"
   ]
  },
  {
   "cell_type": "code",
   "execution_count": 17,
   "id": "26d5ba93",
   "metadata": {},
   "outputs": [],
   "source": [
    "df1['AnnualSalary'] = df1['AnnualSalary'].apply(lambda x: float(str(x)[1:]))"
   ]
  },
  {
   "cell_type": "code",
   "execution_count": 18,
   "id": "43ca36b1",
   "metadata": {},
   "outputs": [
    {
     "data": {
      "text/html": [
       "<div>\n",
       "<style scoped>\n",
       "    .dataframe tbody tr th:only-of-type {\n",
       "        vertical-align: middle;\n",
       "    }\n",
       "\n",
       "    .dataframe tbody tr th {\n",
       "        vertical-align: top;\n",
       "    }\n",
       "\n",
       "    .dataframe thead th {\n",
       "        text-align: right;\n",
       "    }\n",
       "</style>\n",
       "<table border=\"1\" class=\"dataframe\">\n",
       "  <thead>\n",
       "    <tr style=\"text-align: right;\">\n",
       "      <th></th>\n",
       "      <th>JobTitle</th>\n",
       "      <th>AgencyID</th>\n",
       "      <th>Agency</th>\n",
       "      <th>HireDate</th>\n",
       "      <th>AnnualSalary</th>\n",
       "    </tr>\n",
       "  </thead>\n",
       "  <tbody>\n",
       "    <tr>\n",
       "      <th>0</th>\n",
       "      <td>AIDE BLUE CHIP</td>\n",
       "      <td>W02200</td>\n",
       "      <td>Youth Summer</td>\n",
       "      <td>06/10/2013</td>\n",
       "      <td>11310.0</td>\n",
       "    </tr>\n",
       "    <tr>\n",
       "      <th>1</th>\n",
       "      <td>Facilities/Office Services II</td>\n",
       "      <td>A03031</td>\n",
       "      <td>OED-Employment Dev</td>\n",
       "      <td>10/24/1979</td>\n",
       "      <td>53428.0</td>\n",
       "    </tr>\n",
       "    <tr>\n",
       "      <th>2</th>\n",
       "      <td>ASSISTANT STATE'S ATTORNEY</td>\n",
       "      <td>A29005</td>\n",
       "      <td>States Attorneys Office</td>\n",
       "      <td>09/25/2006</td>\n",
       "      <td>68300.0</td>\n",
       "    </tr>\n",
       "    <tr>\n",
       "      <th>3</th>\n",
       "      <td>EPIDEMIOLOGIST</td>\n",
       "      <td>A65026</td>\n",
       "      <td>HLTH-Health Department</td>\n",
       "      <td>07/23/2009</td>\n",
       "      <td>62000.0</td>\n",
       "    </tr>\n",
       "    <tr>\n",
       "      <th>4</th>\n",
       "      <td>POLICE OFFICER TRAINEE</td>\n",
       "      <td>A99416</td>\n",
       "      <td>Police Department</td>\n",
       "      <td>07/24/2013</td>\n",
       "      <td>43999.0</td>\n",
       "    </tr>\n",
       "    <tr>\n",
       "      <th>...</th>\n",
       "      <td>...</td>\n",
       "      <td>...</td>\n",
       "      <td>...</td>\n",
       "      <td>...</td>\n",
       "      <td>...</td>\n",
       "    </tr>\n",
       "    <tr>\n",
       "      <th>18976</th>\n",
       "      <td>AIDE BLUE CHIP</td>\n",
       "      <td>W02235</td>\n",
       "      <td>Youth Summer</td>\n",
       "      <td>05/21/2014</td>\n",
       "      <td>11310.0</td>\n",
       "    </tr>\n",
       "    <tr>\n",
       "      <th>18977</th>\n",
       "      <td>AIDE BLUE CHIP</td>\n",
       "      <td>W02629</td>\n",
       "      <td>Youth Summer</td>\n",
       "      <td>05/21/2014</td>\n",
       "      <td>11310.0</td>\n",
       "    </tr>\n",
       "    <tr>\n",
       "      <th>18978</th>\n",
       "      <td>POLICE OFFICER TRAINEE</td>\n",
       "      <td>A99416</td>\n",
       "      <td>Police Department</td>\n",
       "      <td>12/17/2013</td>\n",
       "      <td>43999.0</td>\n",
       "    </tr>\n",
       "    <tr>\n",
       "      <th>18979</th>\n",
       "      <td>POLICE OFFICER</td>\n",
       "      <td>A99262</td>\n",
       "      <td>Police Department</td>\n",
       "      <td>01/23/2013</td>\n",
       "      <td>44104.0</td>\n",
       "    </tr>\n",
       "    <tr>\n",
       "      <th>18980</th>\n",
       "      <td>Waste Water Tech Supv I Pump</td>\n",
       "      <td>A50206</td>\n",
       "      <td>DPW-Water &amp; Waste Water</td>\n",
       "      <td>10/15/1979</td>\n",
       "      <td>53568.0</td>\n",
       "    </tr>\n",
       "  </tbody>\n",
       "</table>\n",
       "<p>18911 rows × 5 columns</p>\n",
       "</div>"
      ],
      "text/plain": [
       "                            JobTitle AgencyID                    Agency  \\\n",
       "0                     AIDE BLUE CHIP   W02200            Youth Summer     \n",
       "1      Facilities/Office Services II   A03031       OED-Employment Dev    \n",
       "2         ASSISTANT STATE'S ATTORNEY   A29005  States Attorneys Office    \n",
       "3                     EPIDEMIOLOGIST   A65026   HLTH-Health Department    \n",
       "4             POLICE OFFICER TRAINEE   A99416        Police Department    \n",
       "...                              ...      ...                       ...   \n",
       "18976                 AIDE BLUE CHIP   W02235            Youth Summer     \n",
       "18977                 AIDE BLUE CHIP   W02629             Youth Summer    \n",
       "18978         POLICE OFFICER TRAINEE   A99416        Police Department    \n",
       "18979                 POLICE OFFICER   A99262        Police Department    \n",
       "18980   Waste Water Tech Supv I Pump   A50206  DPW-Water & Waste Water    \n",
       "\n",
       "         HireDate  AnnualSalary  \n",
       "0      06/10/2013       11310.0  \n",
       "1      10/24/1979       53428.0  \n",
       "2      09/25/2006       68300.0  \n",
       "3      07/23/2009       62000.0  \n",
       "4      07/24/2013       43999.0  \n",
       "...           ...           ...  \n",
       "18976  05/21/2014       11310.0  \n",
       "18977  05/21/2014       11310.0  \n",
       "18978  12/17/2013       43999.0  \n",
       "18979  01/23/2013       44104.0  \n",
       "18980  10/15/1979       53568.0  \n",
       "\n",
       "[18911 rows x 5 columns]"
      ]
     },
     "execution_count": 18,
     "metadata": {},
     "output_type": "execute_result"
    }
   ],
   "source": [
    "df1"
   ]
  },
  {
   "cell_type": "code",
   "execution_count": 19,
   "id": "28070226",
   "metadata": {},
   "outputs": [
    {
     "name": "stdout",
     "output_type": "stream",
     "text": [
      "<class 'pandas.core.frame.DataFrame'>\n",
      "Int64Index: 18911 entries, 0 to 18980\n",
      "Data columns (total 5 columns):\n",
      " #   Column        Non-Null Count  Dtype  \n",
      "---  ------        --------------  -----  \n",
      " 0   JobTitle      18911 non-null  object \n",
      " 1   AgencyID      18911 non-null  object \n",
      " 2   Agency        18911 non-null  object \n",
      " 3   HireDate      18911 non-null  object \n",
      " 4   AnnualSalary  18911 non-null  float64\n",
      "dtypes: float64(1), object(4)\n",
      "memory usage: 886.5+ KB\n"
     ]
    }
   ],
   "source": [
    "df1.info()"
   ]
  },
  {
   "cell_type": "code",
   "execution_count": 20,
   "id": "d50e799b",
   "metadata": {},
   "outputs": [],
   "source": [
    "#### hiredate - day,month and year\n",
    "df1['month'] = df1['HireDate'].apply(lambda x: int(str(x)[0:2]))\n",
    "df1['day'] = df1['HireDate'].apply(lambda x: int(str(x)[3:5]))\n",
    "df1['year'] = df1['HireDate'].apply(lambda x: int(str(x)[6:]))"
   ]
  },
  {
   "cell_type": "code",
   "execution_count": 21,
   "id": "f0501e7f",
   "metadata": {},
   "outputs": [
    {
     "data": {
      "text/plain": [
       "AIDE BLUE CHIP                    4817\n",
       "POLICE OFFICER                    1866\n",
       "LABORER (Hourly)                   597\n",
       "EMT Firefighter Suppression        358\n",
       "CROSSING GUARD                     337\n",
       "                                  ... \n",
       "PUBLIC INFORMATION OFFICER SAO       1\n",
       "STREET MASON                         1\n",
       "DESIGN PLANNER I                     1\n",
       "FUEL SYSTEMS SPECIALIST              1\n",
       "Research Analyst II                  1\n",
       "Name: JobTitle, Length: 1073, dtype: int64"
      ]
     },
     "execution_count": 21,
     "metadata": {},
     "output_type": "execute_result"
    }
   ],
   "source": [
    "######### eda\n",
    "df1.JobTitle.value_counts()"
   ]
  },
  {
   "cell_type": "code",
   "execution_count": 22,
   "id": "fbf093e7",
   "metadata": {},
   "outputs": [
    {
     "data": {
      "text/plain": [
       "P04001    316\n",
       "C90786    276\n",
       "W02629    193\n",
       "P04002    191\n",
       "A99416    166\n",
       "         ... \n",
       "W02525      1\n",
       "W02400      1\n",
       "A64005      1\n",
       "W02666      1\n",
       "W02339      1\n",
       "Name: AgencyID, Length: 1177, dtype: int64"
      ]
     },
     "execution_count": 22,
     "metadata": {},
     "output_type": "execute_result"
    }
   ],
   "source": [
    "df1.AgencyID.value_counts()"
   ]
  },
  {
   "cell_type": "code",
   "execution_count": 23,
   "id": "4a4c1c43",
   "metadata": {},
   "outputs": [
    {
     "data": {
      "text/plain": [
       "Youth Summer                4323\n",
       "Police Department           3141\n",
       "Fire Department             1576\n",
       "DPW-Water & Waste Water     1491\n",
       "HLTH-Health Department       833\n",
       "                            ... \n",
       "Council Services               6\n",
       "HLTH-Health Dept Locatio       6\n",
       "Legislative Reference          5\n",
       "M-R Cable & Comm               4\n",
       "Special City Services          4\n",
       "Name: Agency, Length: 65, dtype: int64"
      ]
     },
     "execution_count": 23,
     "metadata": {},
     "output_type": "execute_result"
    }
   ],
   "source": [
    "df1.Agency.value_counts()"
   ]
  },
  {
   "cell_type": "code",
   "execution_count": 24,
   "id": "818cdb67",
   "metadata": {},
   "outputs": [
    {
     "data": {
      "text/plain": [
       "<AxesSubplot:>"
      ]
     },
     "execution_count": 24,
     "metadata": {},
     "output_type": "execute_result"
    },
    {
     "data": {
      "image/png": "[encoded data removed]",
      "text/plain": [
       "<Figure size 432x288 with 1 Axes>"
      ]
     },
     "metadata": {
      "needs_background": "light"
     },
     "output_type": "display_data"
    }
   ],
   "source": [
    "### Annuary salary\n",
    "df1.AnnualSalary.plot.box()"
   ]
  },
  {
   "cell_type": "code",
   "execution_count": 25,
   "id": "045f9144",
   "metadata": {},
   "outputs": [
    {
     "data": {
      "text/plain": [
       "<seaborn.axisgrid.FacetGrid at 0x26824887fa0>"
      ]
     },
     "execution_count": 25,
     "metadata": {},
     "output_type": "execute_result"
    },
    {
     "data": {
      "image/png": "[encoded data removed]",
      "text/plain": [
       "<Figure size 360x360 with 1 Axes>"
      ]
     },
     "metadata": {
      "needs_background": "light"
     },
     "output_type": "display_data"
    }
   ],
   "source": [
    "sns.displot(df1.AnnualSalary)"
   ]
  },
  {
   "cell_type": "code",
   "execution_count": 26,
   "id": "f677f8ad",
   "metadata": {},
   "outputs": [
    {
     "data": {
      "text/plain": [
       "(16, 8)"
      ]
     },
     "execution_count": 26,
     "metadata": {},
     "output_type": "execute_result"
    }
   ],
   "source": [
    "df1[df1['AnnualSalary']>150000].shape"
   ]
  },
  {
   "cell_type": "code",
   "execution_count": 27,
   "id": "f86db74f",
   "metadata": {},
   "outputs": [],
   "source": [
    "df1 = df1[df1['AnnualSalary']<150000]"
   ]
  },
  {
   "cell_type": "code",
   "execution_count": 28,
   "id": "672fa0cb",
   "metadata": {},
   "outputs": [
    {
     "data": {
      "text/plain": [
       "<AxesSubplot:>"
      ]
     },
     "execution_count": 28,
     "metadata": {},
     "output_type": "execute_result"
    },
    {
     "data": {
      "image/png": "[encoded data removed]",
      "text/plain": [
       "<Figure size 432x288 with 1 Axes>"
      ]
     },
     "metadata": {
      "needs_background": "light"
     },
     "output_type": "display_data"
    }
   ],
   "source": [
    "df1.AnnualSalary.plot.box()"
   ]
  },
  {
   "cell_type": "code",
   "execution_count": 29,
   "id": "500c4e74",
   "metadata": {},
   "outputs": [
    {
     "data": {
      "text/plain": [
       "(9, 8)"
      ]
     },
     "execution_count": 29,
     "metadata": {},
     "output_type": "execute_result"
    }
   ],
   "source": [
    "df1[df1['AnnualSalary']>140000].shape"
   ]
  },
  {
   "cell_type": "code",
   "execution_count": 30,
   "id": "df7242bb",
   "metadata": {},
   "outputs": [],
   "source": [
    "df1 = df1[df1['AnnualSalary']<140000]"
   ]
  },
  {
   "cell_type": "code",
   "execution_count": 31,
   "id": "3e8fafaa",
   "metadata": {},
   "outputs": [
    {
     "data": {
      "text/plain": [
       "<AxesSubplot:>"
      ]
     },
     "execution_count": 31,
     "metadata": {},
     "output_type": "execute_result"
    },
    {
     "data": {
      "image/png": "[encoded data removed]",
      "text/plain": [
       "<Figure size 432x288 with 1 Axes>"
      ]
     },
     "metadata": {
      "needs_background": "light"
     },
     "output_type": "display_data"
    }
   ],
   "source": [
    "df1.AnnualSalary.plot.box()"
   ]
  },
  {
   "cell_type": "code",
   "execution_count": 32,
   "id": "54031371",
   "metadata": {},
   "outputs": [
    {
     "data": {
      "text/plain": [
       "Text(0.5, 1.0, 'Top 10 job')"
      ]
     },
     "execution_count": 32,
     "metadata": {},
     "output_type": "execute_result"
    },
    {
     "data": {
      "image/png": "[encoded data removed]",
      "text/plain": [
       "<Figure size 720x360 with 1 Axes>"
      ]
     },
     "metadata": {
      "needs_background": "light"
     },
     "output_type": "display_data"
    }
   ],
   "source": [
    "### top 10 jobs for which hiring is there\n",
    "plt.figure(figsize=(10,5))\n",
    "df1.groupby(['JobTitle'])['JobTitle'].count().sort_values(ascending=False).head(10).plot.bar()\n",
    "plt.ylabel('No of people working')\n",
    "plt.title('Top 10 job')\n"
   ]
  },
  {
   "cell_type": "code",
   "execution_count": 33,
   "id": "6f45d795",
   "metadata": {},
   "outputs": [
    {
     "data": {
      "text/plain": [
       "JobTitle\n",
       "911 LEAD OPERATOR              47886.000000\n",
       "911 OPERATOR                   42835.743590\n",
       "911 OPERATOR SUPERVISOR        54797.500000\n",
       "ACCOUNT EXECUTIVE              42960.000000\n",
       "ACCOUNTANT I                   46316.642857\n",
       "                                   ...     \n",
       "ZONING ADMINISTRATOR           82100.000000\n",
       "ZONING APPEALS ADVISOR BMZA    59274.000000\n",
       "ZONING ENFORCEMENT OFFICER     62000.000000\n",
       "ZONING EXAMINER I              43674.000000\n",
       "ZONING EXAMINER II             53568.000000\n",
       "Name: AnnualSalary, Length: 1067, dtype: float64"
      ]
     },
     "execution_count": 33,
     "metadata": {},
     "output_type": "execute_result"
    }
   ],
   "source": [
    "df1.groupby(['JobTitle'])['AnnualSalary'].mean()"
   ]
  },
  {
   "cell_type": "code",
   "execution_count": 34,
   "id": "75008cb1",
   "metadata": {},
   "outputs": [
    {
     "data": {
      "text/plain": [
       "Text(0.5, 1.0, 'Top 10 Job with Highest Average Salary')"
      ]
     },
     "execution_count": 34,
     "metadata": {},
     "output_type": "execute_result"
    },
    {
     "data": {
      "image/png": "[encoded data removed]",
      "text/plain": [
       "<Figure size 720x360 with 1 Axes>"
      ]
     },
     "metadata": {
      "needs_background": "light"
     },
     "output_type": "display_data"
    }
   ],
   "source": [
    "## top 10 jobs which fetch higher avg salary\n",
    "plt.figure(figsize=(10,5))\n",
    "df1.groupby(['JobTitle'])['AnnualSalary'].mean().sort_values(ascending = False).head(10).plot.bar()\n",
    "plt.ylabel('Salary')\n",
    "plt.title('Top 10 Job with Highest Average Salary')"
   ]
  },
  {
   "cell_type": "code",
   "execution_count": 35,
   "id": "993cf7fb",
   "metadata": {},
   "outputs": [
    {
     "data": {
      "text/plain": [
       "Text(0.5, 1.0, 'Top 10 hiring agencies')"
      ]
     },
     "execution_count": 35,
     "metadata": {},
     "output_type": "execute_result"
    },
    {
     "data": {
      "image/png": "[encoded data removed]",
      "text/plain": [
       "<Figure size 720x360 with 1 Axes>"
      ]
     },
     "metadata": {
      "needs_background": "light"
     },
     "output_type": "display_data"
    }
   ],
   "source": [
    "### top 10 agencies that have higher number of employee\n",
    "plt.figure(figsize=(10,5))\n",
    "df1.groupby(['Agency'])['Agency'].count().sort_values(ascending = False).head(10).plot.bar()\n",
    "plt.ylabel('no. of employee')\n",
    "plt.title('Top 10 hiring agencies')"
   ]
  },
  {
   "cell_type": "code",
   "execution_count": 36,
   "id": "32265ba0",
   "metadata": {},
   "outputs": [
    {
     "data": {
      "text/plain": [
       "Text(0.5, 1.0, 'Top 10 AgencyID with Highest Number of Employee')"
      ]
     },
     "execution_count": 36,
     "metadata": {},
     "output_type": "execute_result"
    },
    {
     "data": {
      "image/png": "[encoded data removed]",
      "text/plain": [
       "<Figure size 720x360 with 1 Axes>"
      ]
     },
     "metadata": {
      "needs_background": "light"
     },
     "output_type": "display_data"
    }
   ],
   "source": [
    "### top 10 agency ids having higher number of employees\n",
    "## Top 10 Agnecy ID having highest number of Employees\n",
    "plt.figure(figsize=(10,5))\n",
    "df1.groupby(['AgencyID'])['AgencyID'].count().sort_values(ascending = False).head(10).plot.bar()\n",
    "plt.ylabel('No. of Employee')\n",
    "plt.title('Top 10 AgencyID with Highest Number of Employee')"
   ]
  },
  {
   "cell_type": "code",
   "execution_count": 37,
   "id": "90818611",
   "metadata": {},
   "outputs": [
    {
     "data": {
      "text/plain": [
       "<AxesSubplot:xlabel='year', ylabel='AnnualSalary'>"
      ]
     },
     "execution_count": 37,
     "metadata": {},
     "output_type": "execute_result"
    },
    {
     "data": {
      "image/png": "[encoded data removed]",
      "text/plain": [
       "<Figure size 432x288 with 1 Axes>"
      ]
     },
     "metadata": {
      "needs_background": "light"
     },
     "output_type": "display_data"
    }
   ],
   "source": [
    "### annual salary per year - \n",
    "sns.lineplot(df1['year'],df1['AnnualSalary'])"
   ]
  },
  {
   "cell_type": "code",
   "execution_count": 38,
   "id": "8ec9907e",
   "metadata": {},
   "outputs": [
    {
     "data": {
      "text/plain": [
       "Text(0.5, 1.0, 'month vs avg salary')"
      ]
     },
     "execution_count": 38,
     "metadata": {},
     "output_type": "execute_result"
    },
    {
     "data": {
      "image/png": "[encoded data removed]",
      "text/plain": [
       "<Figure size 720x360 with 1 Axes>"
      ]
     },
     "metadata": {
      "needs_background": "light"
     },
     "output_type": "display_data"
    }
   ],
   "source": [
    "####  bar graph and month vs avg salary\n",
    "plt.figure(figsize=(10,5))\n",
    "df1.groupby(['month'])['AnnualSalary'].mean().plot.bar()\n",
    "plt.ylabel('annual avg salary')\n",
    "plt.xlabel('month')\n",
    "plt.title('month vs avg salary')"
   ]
  },
  {
   "cell_type": "code",
   "execution_count": 39,
   "id": "061e50ab",
   "metadata": {},
   "outputs": [
    {
     "data": {
      "text/plain": [
       "Text(0.5, 1.0, 'Month vs Number of Employees')"
      ]
     },
     "execution_count": 39,
     "metadata": {},
     "output_type": "execute_result"
    },
    {
     "data": {
      "image/png": "[encoded data removed]",
      "text/plain": [
       "<Figure size 720x360 with 1 Axes>"
      ]
     },
     "metadata": {
      "needs_background": "light"
     },
     "output_type": "display_data"
    }
   ],
   "source": [
    "## in which month higher number of people are hired\n",
    "plt.figure(figsize=(10,5))\n",
    "df1.groupby(['month'])['JobTitle'].count().plot.bar()\n",
    "plt.ylabel('Number of Employees')\n",
    "plt.xlabel('month')\n",
    "plt.title('Month vs Number of Employees')"
   ]
  },
  {
   "cell_type": "code",
   "execution_count": 40,
   "id": "3aec0159",
   "metadata": {},
   "outputs": [
    {
     "data": {
      "text/plain": [
       "<AxesSubplot:>"
      ]
     },
     "execution_count": 40,
     "metadata": {},
     "output_type": "execute_result"
    },
    {
     "data": {
      "image/png": "[encoded data removed]",
      "text/plain": [
       "<Figure size 432x288 with 2 Axes>"
      ]
     },
     "metadata": {
      "needs_background": "light"
     },
     "output_type": "display_data"
    }
   ],
   "source": [
    "sns.heatmap(df1.corr(),annot=True)"
   ]
  },
  {
   "cell_type": "code",
   "execution_count": 41,
   "id": "faa0887c",
   "metadata": {},
   "outputs": [
    {
     "data": {
      "text/html": [
       "<div>\n",
       "<style scoped>\n",
       "    .dataframe tbody tr th:only-of-type {\n",
       "        vertical-align: middle;\n",
       "    }\n",
       "\n",
       "    .dataframe tbody tr th {\n",
       "        vertical-align: top;\n",
       "    }\n",
       "\n",
       "    .dataframe thead th {\n",
       "        text-align: right;\n",
       "    }\n",
       "</style>\n",
       "<table border=\"1\" class=\"dataframe\">\n",
       "  <thead>\n",
       "    <tr style=\"text-align: right;\">\n",
       "      <th></th>\n",
       "      <th>JobTitle</th>\n",
       "      <th>AgencyID</th>\n",
       "      <th>Agency</th>\n",
       "      <th>HireDate</th>\n",
       "      <th>AnnualSalary</th>\n",
       "      <th>month</th>\n",
       "      <th>day</th>\n",
       "      <th>year</th>\n",
       "    </tr>\n",
       "  </thead>\n",
       "  <tbody>\n",
       "    <tr>\n",
       "      <th>0</th>\n",
       "      <td>AIDE BLUE CHIP</td>\n",
       "      <td>W02200</td>\n",
       "      <td>Youth Summer</td>\n",
       "      <td>06/10/2013</td>\n",
       "      <td>11310.0</td>\n",
       "      <td>6</td>\n",
       "      <td>10</td>\n",
       "      <td>2013</td>\n",
       "    </tr>\n",
       "    <tr>\n",
       "      <th>1</th>\n",
       "      <td>Facilities/Office Services II</td>\n",
       "      <td>A03031</td>\n",
       "      <td>OED-Employment Dev</td>\n",
       "      <td>10/24/1979</td>\n",
       "      <td>53428.0</td>\n",
       "      <td>10</td>\n",
       "      <td>24</td>\n",
       "      <td>1979</td>\n",
       "    </tr>\n",
       "    <tr>\n",
       "      <th>2</th>\n",
       "      <td>ASSISTANT STATE'S ATTORNEY</td>\n",
       "      <td>A29005</td>\n",
       "      <td>States Attorneys Office</td>\n",
       "      <td>09/25/2006</td>\n",
       "      <td>68300.0</td>\n",
       "      <td>9</td>\n",
       "      <td>25</td>\n",
       "      <td>2006</td>\n",
       "    </tr>\n",
       "    <tr>\n",
       "      <th>3</th>\n",
       "      <td>EPIDEMIOLOGIST</td>\n",
       "      <td>A65026</td>\n",
       "      <td>HLTH-Health Department</td>\n",
       "      <td>07/23/2009</td>\n",
       "      <td>62000.0</td>\n",
       "      <td>7</td>\n",
       "      <td>23</td>\n",
       "      <td>2009</td>\n",
       "    </tr>\n",
       "    <tr>\n",
       "      <th>4</th>\n",
       "      <td>POLICE OFFICER TRAINEE</td>\n",
       "      <td>A99416</td>\n",
       "      <td>Police Department</td>\n",
       "      <td>07/24/2013</td>\n",
       "      <td>43999.0</td>\n",
       "      <td>7</td>\n",
       "      <td>24</td>\n",
       "      <td>2013</td>\n",
       "    </tr>\n",
       "  </tbody>\n",
       "</table>\n",
       "</div>"
      ],
      "text/plain": [
       "                        JobTitle AgencyID                    Agency  \\\n",
       "0                 AIDE BLUE CHIP   W02200            Youth Summer     \n",
       "1  Facilities/Office Services II   A03031       OED-Employment Dev    \n",
       "2     ASSISTANT STATE'S ATTORNEY   A29005  States Attorneys Office    \n",
       "3                 EPIDEMIOLOGIST   A65026   HLTH-Health Department    \n",
       "4         POLICE OFFICER TRAINEE   A99416        Police Department    \n",
       "\n",
       "     HireDate  AnnualSalary  month  day  year  \n",
       "0  06/10/2013       11310.0      6   10  2013  \n",
       "1  10/24/1979       53428.0     10   24  1979  \n",
       "2  09/25/2006       68300.0      9   25  2006  \n",
       "3  07/23/2009       62000.0      7   23  2009  \n",
       "4  07/24/2013       43999.0      7   24  2013  "
      ]
     },
     "execution_count": 41,
     "metadata": {},
     "output_type": "execute_result"
    }
   ],
   "source": [
    "df1.head()"
   ]
  },
  {
   "cell_type": "code",
   "execution_count": 42,
   "id": "0d59ea46",
   "metadata": {},
   "outputs": [],
   "source": [
    "df1.drop('HireDate',axis=1,inplace=True)"
   ]
  },
  {
   "cell_type": "code",
   "execution_count": 43,
   "id": "4a62d116",
   "metadata": {},
   "outputs": [
    {
     "data": {
      "text/html": [
       "<div>\n",
       "<style scoped>\n",
       "    .dataframe tbody tr th:only-of-type {\n",
       "        vertical-align: middle;\n",
       "    }\n",
       "\n",
       "    .dataframe tbody tr th {\n",
       "        vertical-align: top;\n",
       "    }\n",
       "\n",
       "    .dataframe thead th {\n",
       "        text-align: right;\n",
       "    }\n",
       "</style>\n",
       "<table border=\"1\" class=\"dataframe\">\n",
       "  <thead>\n",
       "    <tr style=\"text-align: right;\">\n",
       "      <th></th>\n",
       "      <th>JobTitle</th>\n",
       "      <th>AgencyID</th>\n",
       "      <th>Agency</th>\n",
       "      <th>AnnualSalary</th>\n",
       "      <th>month</th>\n",
       "      <th>day</th>\n",
       "      <th>year</th>\n",
       "    </tr>\n",
       "  </thead>\n",
       "  <tbody>\n",
       "    <tr>\n",
       "      <th>0</th>\n",
       "      <td>AIDE BLUE CHIP</td>\n",
       "      <td>W02200</td>\n",
       "      <td>Youth Summer</td>\n",
       "      <td>11310.0</td>\n",
       "      <td>6</td>\n",
       "      <td>10</td>\n",
       "      <td>2013</td>\n",
       "    </tr>\n",
       "    <tr>\n",
       "      <th>1</th>\n",
       "      <td>Facilities/Office Services II</td>\n",
       "      <td>A03031</td>\n",
       "      <td>OED-Employment Dev</td>\n",
       "      <td>53428.0</td>\n",
       "      <td>10</td>\n",
       "      <td>24</td>\n",
       "      <td>1979</td>\n",
       "    </tr>\n",
       "    <tr>\n",
       "      <th>2</th>\n",
       "      <td>ASSISTANT STATE'S ATTORNEY</td>\n",
       "      <td>A29005</td>\n",
       "      <td>States Attorneys Office</td>\n",
       "      <td>68300.0</td>\n",
       "      <td>9</td>\n",
       "      <td>25</td>\n",
       "      <td>2006</td>\n",
       "    </tr>\n",
       "    <tr>\n",
       "      <th>3</th>\n",
       "      <td>EPIDEMIOLOGIST</td>\n",
       "      <td>A65026</td>\n",
       "      <td>HLTH-Health Department</td>\n",
       "      <td>62000.0</td>\n",
       "      <td>7</td>\n",
       "      <td>23</td>\n",
       "      <td>2009</td>\n",
       "    </tr>\n",
       "    <tr>\n",
       "      <th>4</th>\n",
       "      <td>POLICE OFFICER TRAINEE</td>\n",
       "      <td>A99416</td>\n",
       "      <td>Police Department</td>\n",
       "      <td>43999.0</td>\n",
       "      <td>7</td>\n",
       "      <td>24</td>\n",
       "      <td>2013</td>\n",
       "    </tr>\n",
       "    <tr>\n",
       "      <th>...</th>\n",
       "      <td>...</td>\n",
       "      <td>...</td>\n",
       "      <td>...</td>\n",
       "      <td>...</td>\n",
       "      <td>...</td>\n",
       "      <td>...</td>\n",
       "      <td>...</td>\n",
       "    </tr>\n",
       "    <tr>\n",
       "      <th>18976</th>\n",
       "      <td>AIDE BLUE CHIP</td>\n",
       "      <td>W02235</td>\n",
       "      <td>Youth Summer</td>\n",
       "      <td>11310.0</td>\n",
       "      <td>5</td>\n",
       "      <td>21</td>\n",
       "      <td>2014</td>\n",
       "    </tr>\n",
       "    <tr>\n",
       "      <th>18977</th>\n",
       "      <td>AIDE BLUE CHIP</td>\n",
       "      <td>W02629</td>\n",
       "      <td>Youth Summer</td>\n",
       "      <td>11310.0</td>\n",
       "      <td>5</td>\n",
       "      <td>21</td>\n",
       "      <td>2014</td>\n",
       "    </tr>\n",
       "    <tr>\n",
       "      <th>18978</th>\n",
       "      <td>POLICE OFFICER TRAINEE</td>\n",
       "      <td>A99416</td>\n",
       "      <td>Police Department</td>\n",
       "      <td>43999.0</td>\n",
       "      <td>12</td>\n",
       "      <td>17</td>\n",
       "      <td>2013</td>\n",
       "    </tr>\n",
       "    <tr>\n",
       "      <th>18979</th>\n",
       "      <td>POLICE OFFICER</td>\n",
       "      <td>A99262</td>\n",
       "      <td>Police Department</td>\n",
       "      <td>44104.0</td>\n",
       "      <td>1</td>\n",
       "      <td>23</td>\n",
       "      <td>2013</td>\n",
       "    </tr>\n",
       "    <tr>\n",
       "      <th>18980</th>\n",
       "      <td>Waste Water Tech Supv I Pump</td>\n",
       "      <td>A50206</td>\n",
       "      <td>DPW-Water &amp; Waste Water</td>\n",
       "      <td>53568.0</td>\n",
       "      <td>10</td>\n",
       "      <td>15</td>\n",
       "      <td>1979</td>\n",
       "    </tr>\n",
       "  </tbody>\n",
       "</table>\n",
       "<p>18885 rows × 7 columns</p>\n",
       "</div>"
      ],
      "text/plain": [
       "                            JobTitle AgencyID                    Agency  \\\n",
       "0                     AIDE BLUE CHIP   W02200            Youth Summer     \n",
       "1      Facilities/Office Services II   A03031       OED-Employment Dev    \n",
       "2         ASSISTANT STATE'S ATTORNEY   A29005  States Attorneys Office    \n",
       "3                     EPIDEMIOLOGIST   A65026   HLTH-Health Department    \n",
       "4             POLICE OFFICER TRAINEE   A99416        Police Department    \n",
       "...                              ...      ...                       ...   \n",
       "18976                 AIDE BLUE CHIP   W02235            Youth Summer     \n",
       "18977                 AIDE BLUE CHIP   W02629             Youth Summer    \n",
       "18978         POLICE OFFICER TRAINEE   A99416        Police Department    \n",
       "18979                 POLICE OFFICER   A99262        Police Department    \n",
       "18980   Waste Water Tech Supv I Pump   A50206  DPW-Water & Waste Water    \n",
       "\n",
       "       AnnualSalary  month  day  year  \n",
       "0           11310.0      6   10  2013  \n",
       "1           53428.0     10   24  1979  \n",
       "2           68300.0      9   25  2006  \n",
       "3           62000.0      7   23  2009  \n",
       "4           43999.0      7   24  2013  \n",
       "...             ...    ...  ...   ...  \n",
       "18976       11310.0      5   21  2014  \n",
       "18977       11310.0      5   21  2014  \n",
       "18978       43999.0     12   17  2013  \n",
       "18979       44104.0      1   23  2013  \n",
       "18980       53568.0     10   15  1979  \n",
       "\n",
       "[18885 rows x 7 columns]"
      ]
     },
     "execution_count": 43,
     "metadata": {},
     "output_type": "execute_result"
    }
   ],
   "source": [
    "df1"
   ]
  },
  {
   "cell_type": "code",
   "execution_count": 45,
   "id": "fb18a61a",
   "metadata": {},
   "outputs": [],
   "source": [
    "### label encoding\n",
    "from sklearn.preprocessing import LabelEncoder\n",
    "le = LabelEncoder()\n",
    "df1['JobTitle'] = le.fit_transform(df1['JobTitle'])\n",
    "df1['Agency'] = le.fit_transform(df1['Agency'])\n",
    "df1['AgencyID'] = le.fit_transform(df1['AgencyID'])"
   ]
  },
  {
   "cell_type": "code",
   "execution_count": 46,
   "id": "d4b4a4c8",
   "metadata": {},
   "outputs": [
    {
     "data": {
      "text/html": [
       "<div>\n",
       "<style scoped>\n",
       "    .dataframe tbody tr th:only-of-type {\n",
       "        vertical-align: middle;\n",
       "    }\n",
       "\n",
       "    .dataframe tbody tr th {\n",
       "        vertical-align: top;\n",
       "    }\n",
       "\n",
       "    .dataframe thead th {\n",
       "        text-align: right;\n",
       "    }\n",
       "</style>\n",
       "<table border=\"1\" class=\"dataframe\">\n",
       "  <thead>\n",
       "    <tr style=\"text-align: right;\">\n",
       "      <th></th>\n",
       "      <th>JobTitle</th>\n",
       "      <th>AgencyID</th>\n",
       "      <th>Agency</th>\n",
       "      <th>AnnualSalary</th>\n",
       "      <th>month</th>\n",
       "      <th>day</th>\n",
       "      <th>year</th>\n",
       "    </tr>\n",
       "  </thead>\n",
       "  <tbody>\n",
       "    <tr>\n",
       "      <th>0</th>\n",
       "      <td>30</td>\n",
       "      <td>752</td>\n",
       "      <td>63</td>\n",
       "      <td>11310.0</td>\n",
       "      <td>6</td>\n",
       "      <td>10</td>\n",
       "      <td>2013</td>\n",
       "    </tr>\n",
       "    <tr>\n",
       "      <th>1</th>\n",
       "      <td>413</td>\n",
       "      <td>12</td>\n",
       "      <td>44</td>\n",
       "      <td>53428.0</td>\n",
       "      <td>10</td>\n",
       "      <td>24</td>\n",
       "      <td>1979</td>\n",
       "    </tr>\n",
       "    <tr>\n",
       "      <th>2</th>\n",
       "      <td>50</td>\n",
       "      <td>107</td>\n",
       "      <td>55</td>\n",
       "      <td>68300.0</td>\n",
       "      <td>9</td>\n",
       "      <td>25</td>\n",
       "      <td>2006</td>\n",
       "    </tr>\n",
       "    <tr>\n",
       "      <th>3</th>\n",
       "      <td>363</td>\n",
       "      <td>317</td>\n",
       "      <td>24</td>\n",
       "      <td>62000.0</td>\n",
       "      <td>7</td>\n",
       "      <td>23</td>\n",
       "      <td>2009</td>\n",
       "    </tr>\n",
       "    <tr>\n",
       "      <th>4</th>\n",
       "      <td>741</td>\n",
       "      <td>615</td>\n",
       "      <td>47</td>\n",
       "      <td>43999.0</td>\n",
       "      <td>7</td>\n",
       "      <td>24</td>\n",
       "      <td>2013</td>\n",
       "    </tr>\n",
       "    <tr>\n",
       "      <th>...</th>\n",
       "      <td>...</td>\n",
       "      <td>...</td>\n",
       "      <td>...</td>\n",
       "      <td>...</td>\n",
       "      <td>...</td>\n",
       "      <td>...</td>\n",
       "      <td>...</td>\n",
       "    </tr>\n",
       "    <tr>\n",
       "      <th>18976</th>\n",
       "      <td>30</td>\n",
       "      <td>785</td>\n",
       "      <td>63</td>\n",
       "      <td>11310.0</td>\n",
       "      <td>5</td>\n",
       "      <td>21</td>\n",
       "      <td>2014</td>\n",
       "    </tr>\n",
       "    <tr>\n",
       "      <th>18977</th>\n",
       "      <td>30</td>\n",
       "      <td>1108</td>\n",
       "      <td>62</td>\n",
       "      <td>11310.0</td>\n",
       "      <td>5</td>\n",
       "      <td>21</td>\n",
       "      <td>2014</td>\n",
       "    </tr>\n",
       "    <tr>\n",
       "      <th>18978</th>\n",
       "      <td>741</td>\n",
       "      <td>615</td>\n",
       "      <td>47</td>\n",
       "      <td>43999.0</td>\n",
       "      <td>12</td>\n",
       "      <td>17</td>\n",
       "      <td>2013</td>\n",
       "    </tr>\n",
       "    <tr>\n",
       "      <th>18979</th>\n",
       "      <td>739</td>\n",
       "      <td>544</td>\n",
       "      <td>47</td>\n",
       "      <td>44104.0</td>\n",
       "      <td>1</td>\n",
       "      <td>23</td>\n",
       "      <td>2013</td>\n",
       "    </tr>\n",
       "    <tr>\n",
       "      <th>18980</th>\n",
       "      <td>1053</td>\n",
       "      <td>186</td>\n",
       "      <td>11</td>\n",
       "      <td>53568.0</td>\n",
       "      <td>10</td>\n",
       "      <td>15</td>\n",
       "      <td>1979</td>\n",
       "    </tr>\n",
       "  </tbody>\n",
       "</table>\n",
       "<p>18885 rows × 7 columns</p>\n",
       "</div>"
      ],
      "text/plain": [
       "       JobTitle  AgencyID  Agency  AnnualSalary  month  day  year\n",
       "0            30       752      63       11310.0      6   10  2013\n",
       "1           413        12      44       53428.0     10   24  1979\n",
       "2            50       107      55       68300.0      9   25  2006\n",
       "3           363       317      24       62000.0      7   23  2009\n",
       "4           741       615      47       43999.0      7   24  2013\n",
       "...         ...       ...     ...           ...    ...  ...   ...\n",
       "18976        30       785      63       11310.0      5   21  2014\n",
       "18977        30      1108      62       11310.0      5   21  2014\n",
       "18978       741       615      47       43999.0     12   17  2013\n",
       "18979       739       544      47       44104.0      1   23  2013\n",
       "18980      1053       186      11       53568.0     10   15  1979\n",
       "\n",
       "[18885 rows x 7 columns]"
      ]
     },
     "execution_count": 46,
     "metadata": {},
     "output_type": "execute_result"
    }
   ],
   "source": [
    "df1"
   ]
  },
  {
   "cell_type": "code",
   "execution_count": 49,
   "id": "20d22d40",
   "metadata": {},
   "outputs": [],
   "source": [
    "y = df1.pop('AnnualSalary')\n",
    "x = df1"
   ]
  },
  {
   "cell_type": "code",
   "execution_count": 50,
   "id": "6cdb087f",
   "metadata": {},
   "outputs": [
    {
     "data": {
      "text/html": [
       "<div>\n",
       "<style scoped>\n",
       "    .dataframe tbody tr th:only-of-type {\n",
       "        vertical-align: middle;\n",
       "    }\n",
       "\n",
       "    .dataframe tbody tr th {\n",
       "        vertical-align: top;\n",
       "    }\n",
       "\n",
       "    .dataframe thead th {\n",
       "        text-align: right;\n",
       "    }\n",
       "</style>\n",
       "<table border=\"1\" class=\"dataframe\">\n",
       "  <thead>\n",
       "    <tr style=\"text-align: right;\">\n",
       "      <th></th>\n",
       "      <th>JobTitle</th>\n",
       "      <th>AgencyID</th>\n",
       "      <th>Agency</th>\n",
       "      <th>month</th>\n",
       "      <th>day</th>\n",
       "      <th>year</th>\n",
       "    </tr>\n",
       "  </thead>\n",
       "  <tbody>\n",
       "    <tr>\n",
       "      <th>0</th>\n",
       "      <td>30</td>\n",
       "      <td>752</td>\n",
       "      <td>63</td>\n",
       "      <td>6</td>\n",
       "      <td>10</td>\n",
       "      <td>2013</td>\n",
       "    </tr>\n",
       "    <tr>\n",
       "      <th>1</th>\n",
       "      <td>413</td>\n",
       "      <td>12</td>\n",
       "      <td>44</td>\n",
       "      <td>10</td>\n",
       "      <td>24</td>\n",
       "      <td>1979</td>\n",
       "    </tr>\n",
       "    <tr>\n",
       "      <th>2</th>\n",
       "      <td>50</td>\n",
       "      <td>107</td>\n",
       "      <td>55</td>\n",
       "      <td>9</td>\n",
       "      <td>25</td>\n",
       "      <td>2006</td>\n",
       "    </tr>\n",
       "    <tr>\n",
       "      <th>3</th>\n",
       "      <td>363</td>\n",
       "      <td>317</td>\n",
       "      <td>24</td>\n",
       "      <td>7</td>\n",
       "      <td>23</td>\n",
       "      <td>2009</td>\n",
       "    </tr>\n",
       "    <tr>\n",
       "      <th>4</th>\n",
       "      <td>741</td>\n",
       "      <td>615</td>\n",
       "      <td>47</td>\n",
       "      <td>7</td>\n",
       "      <td>24</td>\n",
       "      <td>2013</td>\n",
       "    </tr>\n",
       "    <tr>\n",
       "      <th>...</th>\n",
       "      <td>...</td>\n",
       "      <td>...</td>\n",
       "      <td>...</td>\n",
       "      <td>...</td>\n",
       "      <td>...</td>\n",
       "      <td>...</td>\n",
       "    </tr>\n",
       "    <tr>\n",
       "      <th>18976</th>\n",
       "      <td>30</td>\n",
       "      <td>785</td>\n",
       "      <td>63</td>\n",
       "      <td>5</td>\n",
       "      <td>21</td>\n",
       "      <td>2014</td>\n",
       "    </tr>\n",
       "    <tr>\n",
       "      <th>18977</th>\n",
       "      <td>30</td>\n",
       "      <td>1108</td>\n",
       "      <td>62</td>\n",
       "      <td>5</td>\n",
       "      <td>21</td>\n",
       "      <td>2014</td>\n",
       "    </tr>\n",
       "    <tr>\n",
       "      <th>18978</th>\n",
       "      <td>741</td>\n",
       "      <td>615</td>\n",
       "      <td>47</td>\n",
       "      <td>12</td>\n",
       "      <td>17</td>\n",
       "      <td>2013</td>\n",
       "    </tr>\n",
       "    <tr>\n",
       "      <th>18979</th>\n",
       "      <td>739</td>\n",
       "      <td>544</td>\n",
       "      <td>47</td>\n",
       "      <td>1</td>\n",
       "      <td>23</td>\n",
       "      <td>2013</td>\n",
       "    </tr>\n",
       "    <tr>\n",
       "      <th>18980</th>\n",
       "      <td>1053</td>\n",
       "      <td>186</td>\n",
       "      <td>11</td>\n",
       "      <td>10</td>\n",
       "      <td>15</td>\n",
       "      <td>1979</td>\n",
       "    </tr>\n",
       "  </tbody>\n",
       "</table>\n",
       "<p>18885 rows × 6 columns</p>\n",
       "</div>"
      ],
      "text/plain": [
       "       JobTitle  AgencyID  Agency  month  day  year\n",
       "0            30       752      63      6   10  2013\n",
       "1           413        12      44     10   24  1979\n",
       "2            50       107      55      9   25  2006\n",
       "3           363       317      24      7   23  2009\n",
       "4           741       615      47      7   24  2013\n",
       "...         ...       ...     ...    ...  ...   ...\n",
       "18976        30       785      63      5   21  2014\n",
       "18977        30      1108      62      5   21  2014\n",
       "18978       741       615      47     12   17  2013\n",
       "18979       739       544      47      1   23  2013\n",
       "18980      1053       186      11     10   15  1979\n",
       "\n",
       "[18885 rows x 6 columns]"
      ]
     },
     "execution_count": 50,
     "metadata": {},
     "output_type": "execute_result"
    }
   ],
   "source": [
    "x"
   ]
  },
  {
   "cell_type": "code",
   "execution_count": 51,
   "id": "bcba11dd",
   "metadata": {},
   "outputs": [
    {
     "data": {
      "text/plain": [
       "0        11310.0\n",
       "1        53428.0\n",
       "2        68300.0\n",
       "3        62000.0\n",
       "4        43999.0\n",
       "          ...   \n",
       "18976    11310.0\n",
       "18977    11310.0\n",
       "18978    43999.0\n",
       "18979    44104.0\n",
       "18980    53568.0\n",
       "Name: AnnualSalary, Length: 18885, dtype: float64"
      ]
     },
     "execution_count": 51,
     "metadata": {},
     "output_type": "execute_result"
    }
   ],
   "source": [
    "y"
   ]
  },
  {
   "cell_type": "code",
   "execution_count": 52,
   "id": "95a03889",
   "metadata": {},
   "outputs": [],
   "source": [
    "scaler = StandardScaler()\n",
    "x[x.columns] = scaler.fit_transform(x[x.columns])"
   ]
  },
  {
   "cell_type": "code",
   "execution_count": 53,
   "id": "1733099b",
   "metadata": {},
   "outputs": [
    {
     "data": {
      "text/html": [
       "<div>\n",
       "<style scoped>\n",
       "    .dataframe tbody tr th:only-of-type {\n",
       "        vertical-align: middle;\n",
       "    }\n",
       "\n",
       "    .dataframe tbody tr th {\n",
       "        vertical-align: top;\n",
       "    }\n",
       "\n",
       "    .dataframe thead th {\n",
       "        text-align: right;\n",
       "    }\n",
       "</style>\n",
       "<table border=\"1\" class=\"dataframe\">\n",
       "  <thead>\n",
       "    <tr style=\"text-align: right;\">\n",
       "      <th></th>\n",
       "      <th>JobTitle</th>\n",
       "      <th>AgencyID</th>\n",
       "      <th>Agency</th>\n",
       "      <th>month</th>\n",
       "      <th>day</th>\n",
       "      <th>year</th>\n",
       "    </tr>\n",
       "  </thead>\n",
       "  <tbody>\n",
       "    <tr>\n",
       "      <th>0</th>\n",
       "      <td>-1.215715</td>\n",
       "      <td>0.818207</td>\n",
       "      <td>1.110364</td>\n",
       "      <td>-0.125420</td>\n",
       "      <td>-0.687804</td>\n",
       "      <td>0.858322</td>\n",
       "    </tr>\n",
       "    <tr>\n",
       "      <th>1</th>\n",
       "      <td>-0.062337</td>\n",
       "      <td>-1.588452</td>\n",
       "      <td>0.144954</td>\n",
       "      <td>1.231146</td>\n",
       "      <td>0.981832</td>\n",
       "      <td>-2.413642</td>\n",
       "    </tr>\n",
       "    <tr>\n",
       "      <th>2</th>\n",
       "      <td>-1.155487</td>\n",
       "      <td>-1.279489</td>\n",
       "      <td>0.703876</td>\n",
       "      <td>0.892004</td>\n",
       "      <td>1.101092</td>\n",
       "      <td>0.184682</td>\n",
       "    </tr>\n",
       "    <tr>\n",
       "      <th>3</th>\n",
       "      <td>-0.212909</td>\n",
       "      <td>-0.596518</td>\n",
       "      <td>-0.871268</td>\n",
       "      <td>0.213721</td>\n",
       "      <td>0.862573</td>\n",
       "      <td>0.473385</td>\n",
       "    </tr>\n",
       "    <tr>\n",
       "      <th>4</th>\n",
       "      <td>0.925413</td>\n",
       "      <td>0.372650</td>\n",
       "      <td>0.297387</td>\n",
       "      <td>0.213721</td>\n",
       "      <td>0.981832</td>\n",
       "      <td>0.858322</td>\n",
       "    </tr>\n",
       "    <tr>\n",
       "      <th>...</th>\n",
       "      <td>...</td>\n",
       "      <td>...</td>\n",
       "      <td>...</td>\n",
       "      <td>...</td>\n",
       "      <td>...</td>\n",
       "      <td>...</td>\n",
       "    </tr>\n",
       "    <tr>\n",
       "      <th>18976</th>\n",
       "      <td>-1.215715</td>\n",
       "      <td>0.925531</td>\n",
       "      <td>1.110364</td>\n",
       "      <td>-0.464562</td>\n",
       "      <td>0.624053</td>\n",
       "      <td>0.954556</td>\n",
       "    </tr>\n",
       "    <tr>\n",
       "      <th>18977</th>\n",
       "      <td>-1.215715</td>\n",
       "      <td>1.976005</td>\n",
       "      <td>1.059553</td>\n",
       "      <td>-0.464562</td>\n",
       "      <td>0.624053</td>\n",
       "      <td>0.954556</td>\n",
       "    </tr>\n",
       "    <tr>\n",
       "      <th>18978</th>\n",
       "      <td>0.925413</td>\n",
       "      <td>0.372650</td>\n",
       "      <td>0.297387</td>\n",
       "      <td>1.909429</td>\n",
       "      <td>0.147014</td>\n",
       "      <td>0.858322</td>\n",
       "    </tr>\n",
       "    <tr>\n",
       "      <th>18979</th>\n",
       "      <td>0.919390</td>\n",
       "      <td>0.141741</td>\n",
       "      <td>0.297387</td>\n",
       "      <td>-1.821128</td>\n",
       "      <td>0.862573</td>\n",
       "      <td>0.858322</td>\n",
       "    </tr>\n",
       "    <tr>\n",
       "      <th>18980</th>\n",
       "      <td>1.864979</td>\n",
       "      <td>-1.022562</td>\n",
       "      <td>-1.531813</td>\n",
       "      <td>1.231146</td>\n",
       "      <td>-0.091505</td>\n",
       "      <td>-2.413642</td>\n",
       "    </tr>\n",
       "  </tbody>\n",
       "</table>\n",
       "<p>18885 rows × 6 columns</p>\n",
       "</div>"
      ],
      "text/plain": [
       "       JobTitle  AgencyID    Agency     month       day      year\n",
       "0     -1.215715  0.818207  1.110364 -0.125420 -0.687804  0.858322\n",
       "1     -0.062337 -1.588452  0.144954  1.231146  0.981832 -2.413642\n",
       "2     -1.155487 -1.279489  0.703876  0.892004  1.101092  0.184682\n",
       "3     -0.212909 -0.596518 -0.871268  0.213721  0.862573  0.473385\n",
       "4      0.925413  0.372650  0.297387  0.213721  0.981832  0.858322\n",
       "...         ...       ...       ...       ...       ...       ...\n",
       "18976 -1.215715  0.925531  1.110364 -0.464562  0.624053  0.954556\n",
       "18977 -1.215715  1.976005  1.059553 -0.464562  0.624053  0.954556\n",
       "18978  0.925413  0.372650  0.297387  1.909429  0.147014  0.858322\n",
       "18979  0.919390  0.141741  0.297387 -1.821128  0.862573  0.858322\n",
       "18980  1.864979 -1.022562 -1.531813  1.231146 -0.091505 -2.413642\n",
       "\n",
       "[18885 rows x 6 columns]"
      ]
     },
     "execution_count": 53,
     "metadata": {},
     "output_type": "execute_result"
    }
   ],
   "source": [
    "x"
   ]
  },
  {
   "cell_type": "code",
   "execution_count": 55,
   "id": "143cb850",
   "metadata": {},
   "outputs": [
    {
     "data": {
      "text/html": [
       "<div>\n",
       "<style scoped>\n",
       "    .dataframe tbody tr th:only-of-type {\n",
       "        vertical-align: middle;\n",
       "    }\n",
       "\n",
       "    .dataframe tbody tr th {\n",
       "        vertical-align: top;\n",
       "    }\n",
       "\n",
       "    .dataframe thead th {\n",
       "        text-align: right;\n",
       "    }\n",
       "</style>\n",
       "<table border=\"1\" class=\"dataframe\">\n",
       "  <thead>\n",
       "    <tr style=\"text-align: right;\">\n",
       "      <th></th>\n",
       "      <th>JobTitle</th>\n",
       "      <th>AgencyID</th>\n",
       "      <th>Agency</th>\n",
       "      <th>month</th>\n",
       "      <th>day</th>\n",
       "      <th>year</th>\n",
       "    </tr>\n",
       "  </thead>\n",
       "  <tbody>\n",
       "    <tr>\n",
       "      <th>count</th>\n",
       "      <td>1.888500e+04</td>\n",
       "      <td>1.888500e+04</td>\n",
       "      <td>1.888500e+04</td>\n",
       "      <td>1.888500e+04</td>\n",
       "      <td>1.888500e+04</td>\n",
       "      <td>1.888500e+04</td>\n",
       "    </tr>\n",
       "    <tr>\n",
       "      <th>mean</th>\n",
       "      <td>3.452068e-16</td>\n",
       "      <td>1.017749e-16</td>\n",
       "      <td>4.742243e-16</td>\n",
       "      <td>6.561162e-16</td>\n",
       "      <td>9.034267e-17</td>\n",
       "      <td>-4.704971e-16</td>\n",
       "    </tr>\n",
       "    <tr>\n",
       "      <th>std</th>\n",
       "      <td>1.000026e+00</td>\n",
       "      <td>1.000026e+00</td>\n",
       "      <td>1.000026e+00</td>\n",
       "      <td>1.000026e+00</td>\n",
       "      <td>1.000026e+00</td>\n",
       "      <td>1.000026e+00</td>\n",
       "    </tr>\n",
       "    <tr>\n",
       "      <th>min</th>\n",
       "      <td>-1.306058e+00</td>\n",
       "      <td>-1.627479e+00</td>\n",
       "      <td>-2.090735e+00</td>\n",
       "      <td>-1.821128e+00</td>\n",
       "      <td>-1.761141e+00</td>\n",
       "      <td>-5.011967e+00</td>\n",
       "    </tr>\n",
       "    <tr>\n",
       "      <th>25%</th>\n",
       "      <td>-1.215715e+00</td>\n",
       "      <td>-9.119856e-01</td>\n",
       "      <td>-9.728907e-01</td>\n",
       "      <td>-4.645619e-01</td>\n",
       "      <td>-8.070634e-01</td>\n",
       "      <td>-5.851918e-01</td>\n",
       "    </tr>\n",
       "    <tr>\n",
       "      <th>50%</th>\n",
       "      <td>1.897162e-02</td>\n",
       "      <td>-2.737583e-02</td>\n",
       "      <td>2.973869e-01</td>\n",
       "      <td>-1.254204e-01</td>\n",
       "      <td>2.775464e-02</td>\n",
       "      <td>2.809163e-01</td>\n",
       "    </tr>\n",
       "    <tr>\n",
       "      <th>75%</th>\n",
       "      <td>9.193898e-01</td>\n",
       "      <td>6.100636e-01</td>\n",
       "      <td>1.059553e+00</td>\n",
       "      <td>5.528626e-01</td>\n",
       "      <td>7.433129e-01</td>\n",
       "      <td>8.583217e-01</td>\n",
       "    </tr>\n",
       "    <tr>\n",
       "      <th>max</th>\n",
       "      <td>1.904128e+00</td>\n",
       "      <td>2.193905e+00</td>\n",
       "      <td>1.161176e+00</td>\n",
       "      <td>1.909429e+00</td>\n",
       "      <td>1.816650e+00</td>\n",
       "      <td>9.545560e-01</td>\n",
       "    </tr>\n",
       "  </tbody>\n",
       "</table>\n",
       "</div>"
      ],
      "text/plain": [
       "           JobTitle      AgencyID        Agency         month           day  \\\n",
       "count  1.888500e+04  1.888500e+04  1.888500e+04  1.888500e+04  1.888500e+04   \n",
       "mean   3.452068e-16  1.017749e-16  4.742243e-16  6.561162e-16  9.034267e-17   \n",
       "std    1.000026e+00  1.000026e+00  1.000026e+00  1.000026e+00  1.000026e+00   \n",
       "min   -1.306058e+00 -1.627479e+00 -2.090735e+00 -1.821128e+00 -1.761141e+00   \n",
       "25%   -1.215715e+00 -9.119856e-01 -9.728907e-01 -4.645619e-01 -8.070634e-01   \n",
       "50%    1.897162e-02 -2.737583e-02  2.973869e-01 -1.254204e-01  2.775464e-02   \n",
       "75%    9.193898e-01  6.100636e-01  1.059553e+00  5.528626e-01  7.433129e-01   \n",
       "max    1.904128e+00  2.193905e+00  1.161176e+00  1.909429e+00  1.816650e+00   \n",
       "\n",
       "               year  \n",
       "count  1.888500e+04  \n",
       "mean  -4.704971e-16  \n",
       "std    1.000026e+00  \n",
       "min   -5.011967e+00  \n",
       "25%   -5.851918e-01  \n",
       "50%    2.809163e-01  \n",
       "75%    8.583217e-01  \n",
       "max    9.545560e-01  "
      ]
     },
     "execution_count": 55,
     "metadata": {},
     "output_type": "execute_result"
    }
   ],
   "source": [
    "x.describe()"
   ]
  },
  {
   "cell_type": "code",
   "execution_count": 69,
   "id": "7e5bd022",
   "metadata": {},
   "outputs": [],
   "source": [
    "x_train,x_test,y_train,y_test  = train_test_split(x,y,test_size=0.25,random_state=30)"
   ]
  },
  {
   "cell_type": "code",
   "execution_count": 70,
   "id": "6516bbdf",
   "metadata": {},
   "outputs": [
    {
     "data": {
      "text/plain": [
       "(14163, 6)"
      ]
     },
     "execution_count": 70,
     "metadata": {},
     "output_type": "execute_result"
    }
   ],
   "source": [
    "x_train.shape"
   ]
  },
  {
   "cell_type": "code",
   "execution_count": 71,
   "id": "73a9c0bd",
   "metadata": {},
   "outputs": [
    {
     "data": {
      "text/plain": [
       "(4722, 6)"
      ]
     },
     "execution_count": 71,
     "metadata": {},
     "output_type": "execute_result"
    }
   ],
   "source": [
    "x_test.shape"
   ]
  },
  {
   "cell_type": "code",
   "execution_count": 72,
   "id": "3f9ea96a",
   "metadata": {},
   "outputs": [
    {
     "data": {
      "text/plain": [
       "(18885, 6)"
      ]
     },
     "execution_count": 72,
     "metadata": {},
     "output_type": "execute_result"
    }
   ],
   "source": [
    "x.shape"
   ]
  },
  {
   "cell_type": "code",
   "execution_count": 73,
   "id": "d7985776",
   "metadata": {},
   "outputs": [],
   "source": [
    "lr  = LinearRegression()\n",
    "salary = lr.fit(x_train,y_train)"
   ]
  },
  {
   "cell_type": "code",
   "execution_count": 74,
   "id": "5aec7274",
   "metadata": {},
   "outputs": [],
   "source": [
    "y_pred = salary.predict(x_test)"
   ]
  },
  {
   "cell_type": "code",
   "execution_count": 75,
   "id": "3c3184da",
   "metadata": {},
   "outputs": [
    {
     "data": {
      "text/plain": [
       "array([39125.6303602 , 21628.43141901, 45805.8894204 , ...,\n",
       "       42505.90916049, 33290.6962245 , 30729.71360933])"
      ]
     },
     "execution_count": 75,
     "metadata": {},
     "output_type": "execute_result"
    }
   ],
   "source": [
    "y_pred"
   ]
  },
  {
   "cell_type": "code",
   "execution_count": 76,
   "id": "ef4c87e8",
   "metadata": {},
   "outputs": [
    {
     "data": {
      "text/plain": [
       "856       30816.0\n",
       "9242      11310.0\n",
       "12695     88821.0\n",
       "15158    135000.0\n",
       "301       11310.0\n",
       "           ...   \n",
       "17317     11310.0\n",
       "18641     44104.0\n",
       "2981      10941.0\n",
       "5907      32968.0\n",
       "18106     18408.0\n",
       "Name: AnnualSalary, Length: 4722, dtype: float64"
      ]
     },
     "execution_count": 76,
     "metadata": {},
     "output_type": "execute_result"
    }
   ],
   "source": [
    "y_test"
   ]
  },
  {
   "cell_type": "code",
   "execution_count": 77,
   "id": "e4a6f0ef",
   "metadata": {},
   "outputs": [
    {
     "data": {
      "text/plain": [
       "0.46524660602694023"
      ]
     },
     "execution_count": 77,
     "metadata": {},
     "output_type": "execute_result"
    }
   ],
   "source": [
    "from sklearn.metrics import r2_score\n",
    "r2_score(y_test,y_pred)"
   ]
  },
  {
   "cell_type": "code",
   "execution_count": 78,
   "id": "c33116cc",
   "metadata": {},
   "outputs": [
    {
     "data": {
      "text/plain": [
       "0.4703237030540923"
      ]
     },
     "execution_count": 78,
     "metadata": {},
     "output_type": "execute_result"
    }
   ],
   "source": [
    "r2_score(y_train,salary.predict(x_train))"
   ]
  },
  {
   "cell_type": "code",
   "execution_count": 80,
   "id": "80a208a0",
   "metadata": {},
   "outputs": [],
   "source": [
    "#### there were two many categories  - mean encoding\n",
    "from sklearn.svm import SVR"
   ]
  },
  {
   "cell_type": "code",
   "execution_count": 81,
   "id": "4400c56f",
   "metadata": {},
   "outputs": [
    {
     "data": {
      "text/plain": [
       "0.04674271071717151"
      ]
     },
     "execution_count": 81,
     "metadata": {},
     "output_type": "execute_result"
    }
   ],
   "source": [
    "svr  = SVR()\n",
    "salary = svr.fit(x_train,y_train)\n",
    "r2_score(y_test,salary.predict(x_test))"
   ]
  },
  {
   "cell_type": "code",
   "execution_count": null,
   "id": "59c65845",
   "metadata": {},
   "outputs": [],
   "source": []
  }
 ],
 "metadata": {
  "kernelspec": {
   "display_name": "Python 3 (ipykernel)",
   "language": "python",
   "name": "python3"
  },
  "language_info": {
   "codemirror_mode": {
    "name": "ipython",
    "version": 3
   },
   "file_extension": ".py",
   "mimetype": "text/x-python",
   "name": "python",
   "nbconvert_exporter": "python",
   "pygments_lexer": "ipython3",
   "version": "3.9.12"
  }
 },
 "nbformat": 4,
 "nbformat_minor": 5
}
